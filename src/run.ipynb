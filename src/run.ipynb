{
 "cells": [
  {
   "cell_type": "code",
   "execution_count": 28,
   "metadata": {},
   "outputs": [],
   "source": [
    "import pandas as pd\n",
    "import numpy as np\n",
    "import sys\n",
    "sys.path.append('../')\n",
    "\n",
    "from pyqubo import Array, Constraint, Placeholder\n",
    "from dwave.system import DWaveSampler, EmbeddingComposite\n",
    "\n",
    "from utils.utils import load_yaml\n",
    "\n",
    "# --------- PARAMS ---------- #\n",
    "\n",
    "N = 5\n",
    "df = pd.read_csv(\"../data/distance.csv\", index_col=0)\n",
    "Q = np.array(df)\n",
    "\n",
    "credential_path = \"../config/d-wave_credential.yml\"\n",
    "credential_cfg = load_yaml(credential_path)\n",
    "token = credential_cfg[\"TOKEN\"]\n",
    "endpoint = credential_cfg[\"ENDPOINT\"]\n",
    "# --------- /PARAMS ---------- #\n",
    "\n",
    "# 変数の定義\n",
    "x = Array.create(\"x\", shape=(N, N), vartype=\"BINARY\")\n",
    "\n",
    "# 目的関数の定義(%Nで繰り返す)\n",
    "cost = 0\n",
    "for i in range(N):\n",
    "    for j in range(N):\n",
    "        for k in range(N):\n",
    "            cost += Q[i][j] * x[i][k] * x[j][(k+1)%N]\n",
    "\n",
    "# 制約条件1: 各都市に1回は訪問しなければならない\n",
    "constr_1 = 0\n",
    "for i in range(N):\n",
    "    constr_1 += (np.sum(x[i]) - 1) ** 2\n",
    "\n",
    "# 制約条件2: 1度に訪れる都市は1つでなければならない\n",
    "constr_2 = 0\n",
    "for k in range(N):\n",
    "    constr_2 += (np.sum(x.T[k]) - 1) ** 2\n",
    "\n",
    "# コスト関数\n",
    "# Tips: Placeholder(\"lam\")はpenalty係数λで，コスト関数をコンパイルした後もハイパーパラメータとして変更できるようにしている\n",
    "# Tips: penalty係数を変えることで制約条件の影響力を調整できる\n",
    "# Tips: Constraintは制約条件を守っているかチェックする機能を持っている\n",
    "cost_func = cost \\\n",
    "            + \\\n",
    "            Placeholder(\"lam\") * Constraint(constr_1, label=\"constr_1\") \\\n",
    "            + \\\n",
    "            Placeholder(\"lam\") * Constraint(constr_2, label=\"constr_2\")\n",
    "\n",
    "model = cost_func.compile()\n",
    "\n",
    "# ハイパーパラメータをコスト関数に渡して辞書形式のQUBOを生成\n",
    "feed_dict = {\"lam\": 1000.0}\n",
    "qubo, offset = model.to_qubo(feed_dict=feed_dict)\n",
    "\n",
    "# ソルバーの定義\n",
    "dw_sampler = DWaveSampler(\n",
    "    solver=\"DW_2000Q_6\",\n",
    "    token=token,\n",
    "    endpoint=endpoint\n",
    ")\n",
    "\n",
    "# 問題の埋め込み\n",
    "sampler = EmbeddingComposite(dw_sampler)\n",
    "\n",
    "# 実行\n",
    "sampleset = sampler.sample_qubo(qubo, num_reads=10)"
   ]
  },
  {
   "cell_type": "code",
   "execution_count": 31,
   "metadata": {},
   "outputs": [
    {
     "data": {
      "text/plain": [
       "rec.array([([0, 0, 0, 1, 0, 0, 0, 0, 0, 1, 0, 0, 1, 0, 0, 0, 1, 0, 0, 0, 1, 0, 0, 0, 0], -9910., 1, 0.04),\n",
       "           ([0, 0, 1, 0, 0, 0, 0, 0, 1, 0, 0, 1, 0, 0, 0, 0, 0, 0, 0, 1, 1, 0, 0, 0, 0], -9900., 1, 0.  ),\n",
       "           ([0, 0, 0, 1, 0, 1, 0, 0, 0, 0, 0, 0, 1, 0, 0, 0, 1, 0, 0, 0, 0, 0, 0, 0, 1], -9870., 1, 0.  ),\n",
       "           ([0, 0, 0, 1, 0, 1, 0, 0, 0, 0, 0, 0, 1, 0, 0, 0, 0, 0, 0, 1, 0, 1, 0, 0, 0], -9860., 1, 0.  ),\n",
       "           ([0, 1, 0, 0, 0, 0, 0, 0, 0, 1, 0, 0, 1, 0, 0, 0, 0, 0, 1, 0, 1, 0, 0, 0, 0], -9860., 1, 0.  ),\n",
       "           ([1, 0, 0, 0, 0, 0, 1, 0, 0, 1, 0, 0, 1, 0, 0, 0, 0, 0, 0, 0, 0, 0, 0, 1, 0], -7900., 1, 0.04),\n",
       "           ([0, 0, 0, 1, 0, 0, 0, 1, 0, 0, 0, 0, 1, 0, 0, 0, 1, 0, 0, 0, 1, 0, 0, 0, 0], -7890., 1, 0.  ),\n",
       "           ([0, 0, 0, 0, 1, 0, 1, 0, 0, 0, 0, 0, 1, 0, 0, 0, 0, 0, 0, 1, 1, 0, 0, 1, 0], -7850., 1, 0.  ),\n",
       "           ([0, 0, 1, 0, 1, 1, 0, 0, 1, 0, 0, 0, 0, 1, 0, 0, 1, 0, 0, 0, 1, 0, 0, 0, 0], -5760., 1, 0.  ),\n",
       "           ([0, 1, 0, 1, 0, 1, 0, 0, 0, 0, 1, 0, 1, 0, 0, 0, 0, 0, 0, 1, 0, 0, 1, 0, 0], -5730., 1, 0.  )],\n",
       "          dtype=[('sample', 'i1', (25,)), ('energy', '<f8'), ('num_occurrences', '<i8'), ('chain_break_fraction', '<f8')])"
      ]
     },
     "execution_count": 31,
     "metadata": {},
     "output_type": "execute_result"
    }
   ],
   "source": [
    "sampleset.record"
   ]
  },
  {
   "cell_type": "code",
   "execution_count": 29,
   "metadata": {},
   "outputs": [
    {
     "data": {
      "text/plain": [
       "array([[0, 0, 0, 1, 0],\n",
       "       [0, 0, 0, 0, 1],\n",
       "       [0, 0, 1, 0, 0],\n",
       "       [0, 1, 0, 0, 0],\n",
       "       [1, 0, 0, 0, 0]], dtype=int8)"
      ]
     },
     "execution_count": 29,
     "metadata": {},
     "output_type": "execute_result"
    }
   ],
   "source": [
    "sampleset.record[0][0].reshape(N, N)"
   ]
  },
  {
   "cell_type": "code",
   "execution_count": 30,
   "metadata": {},
   "outputs": [
    {
     "name": "stdout",
     "output_type": "stream",
     "text": [
      "{}\n",
      "{}\n",
      "{}\n",
      "{}\n",
      "{}\n",
      "{'constr_1': (False, 2.0)}\n",
      "{'constr_2': (False, 2.0)}\n",
      "{'constr_2': (False, 1.0), 'constr_1': (False, 1.0)}\n",
      "{'constr_1': (False, 2.0), 'constr_2': (False, 2.0)}\n",
      "{'constr_1': (False, 2.0), 'constr_2': (False, 2.0)}\n"
     ]
    }
   ],
   "source": [
    "decoded_samples = model.decode_sampleset(sampleset=sampleset, feed_dict=feed_dict)\n",
    "for sample in decoded_samples:\n",
    "    print(sample.constraints(only_broken=True))"
   ]
  }
 ],
 "metadata": {
  "kernelspec": {
   "display_name": ".venv",
   "language": "python",
   "name": "python3"
  },
  "language_info": {
   "codemirror_mode": {
    "name": "ipython",
    "version": 3
   },
   "file_extension": ".py",
   "mimetype": "text/x-python",
   "name": "python",
   "nbconvert_exporter": "python",
   "pygments_lexer": "ipython3",
   "version": "3.10.8"
  },
  "orig_nbformat": 4,
  "vscode": {
   "interpreter": {
    "hash": "f4a8510f730d800ee81fd05be9e26613029e6f87080ffef87ab2e12af07aa10d"
   }
  }
 },
 "nbformat": 4,
 "nbformat_minor": 2
}
